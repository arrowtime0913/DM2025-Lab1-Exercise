{
 "cells": [
  {
   "cell_type": "markdown",
   "metadata": {},
   "source": [
    "### Student Information\n",
    "Name:\n",
    "\n",
    "Student ID:\n",
    "\n",
    "GitHub ID:"
   ]
  },
  {
   "cell_type": "markdown",
   "metadata": {},
   "source": [
    "---"
   ]
  },
  {
   "cell_type": "markdown",
   "metadata": {},
   "source": [
    "### Instructions"
   ]
  },
  {
   "cell_type": "markdown",
   "metadata": {},
   "source": [
    "### First Phase Submission"
   ]
  },
  {
   "cell_type": "markdown",
   "metadata": {},
   "source": [
    "1. First: do the **take home** exercises in the [DM2025-Lab1-Master](https://github.com/leoson-wu/DM2025-Lab1-Exercise/blob/main/DM2025-Lab1-Master.ipynb) that considered as **phase 1 (from exercise 1 to exercise 15)**. You can answer in the master file. __This part is worth 10% of your grade.__\n",
    "\n",
    "\n",
    "2. Second: follow the same process from the [DM2025-Lab1-Master](https://github.com/leoson-wu/DM2025-Lab1-Exercise/blob/main/DM2025-Lab1-Master.ipynb) on **the new dataset** up **until phase 1**. You can skip some exercises if you think some steps are not necessary. However main exercises should be completed. You don't need to explain all details as we did (some **minimal comments** explaining your code are useful though).  __This part is worth 15% of your grade.__\n",
    "    -  Use [the new dataset](https://github.com/leoson-wu/DM2025-Lab1-Exercise/blob/main/newdataset/Reddit-stock-sentiment.csv). The dataset contains a 16 columns including 'text' and 'label', with the sentiment labels being: 1.0 is positive, 0.0 is neutral and -1.0 is negative. You can simplify the dataset and use only the columns that you think are necessary. \n",
    "    \n",
    "    - You are allowed to use and modify the `helper` functions in the folder of the first lab session (notice they may need modification) or create your own.\n",
    "    - Use this file to complete the homework from the second part. Make sure the code can be run from the beginning till the end and has all the needed output.\n",
    "\n",
    "\n",
    "3. Third: please attempt the following tasks on **the new dataset**. __This part is worth 10% of your grade.__\n",
    "    - Generate meaningful **new data visualizations**. Refer to online resources and the Data Mining textbook for inspiration and ideas. \n",
    "    \n",
    "\n",
    "\n",
    "4. Fourth: It's hard for us to follow if your code is messy, so please **tidy up your notebook** and **add minimal comments where needed**. __This part is worth 5% of your grade.__\n",
    "\n",
    "You can submit your homework following these guidelines: [DM2025-Lab1-announcement](https://github.com/leoson-wu/DM2025-Lab1-Announcement/blob/main/README.md). Make sure to commit and save your changes to your repository __BEFORE the deadline (September 28th 11:59 pm, Sunday)__. "
   ]
  },
  {
   "cell_type": "markdown",
   "metadata": {},
   "source": [
    "### Second Phase Submission "
   ]
  },
  {
   "cell_type": "markdown",
   "metadata": {},
   "source": [
    "**You can keep the answer for phase 1 for easier running and update the phase 2 on the same page.**\n",
    "\n",
    "1. First: Continue doing the **take home** exercises in the [DM2025-Lab1-Master](https://github.com/leoson-wu/DM2025-Lab1-Exercise/blob/main/DM2025-Lab1-Master.ipynb) for **phase 2, starting from Finding frequent patterns**. Use the same master(.ipynb) file. Answer from phase 1 will not be considered at this stage. You can answer in the master file. __This part is worth 10% of your grade.__\n",
    "\n",
    "\n",
    "2. Second: Continue from first phase and do the same process from the [DM2025-Lab1-Master](https://github.com/leoson-wu/DM2025-Lab1-Exercise/blob/main/DM2025-Lab1-Master.ipynb) on **the new dataset** for phase 2, starting from Finding frequent pattern. You can skip some exercises if you think some steps are not necessary. However main exercises should be completed. You don't need to explain all details as we did (some **minimal comments** explaining your code are useful though).  __This part is worth 15% of your grade.__\n",
    "    - Continue using this file to complete the homework from the second part. Make sure the code can be run from the beginning till the end and has all the needed output. Use the same new dataset as in phase 1.\n",
    "    \n",
    "    - You are allowed to use and modify the `helper` functions in the folder of the first lab session (notice they may need modification) or create your own.\n",
    "\n",
    "3. Third: please attempt the following tasks on **the new dataset**. __This part is worth 20% of your grade.__\n",
    "    - Use this file to answer.\n",
    "    - Generate **TF-IDF features** from the tokens of each text. This will generating a document matrix, however, the weights will be computed differently (using the TF-IDF value of each word per document as opposed to the word frequency).  Refer to this Scikit-learn [guide](http://scikit-learn.org/stable/modules/generated/sklearn.feature_extraction.text.TfidfVectorizer.html) .\n",
    "    - Implement a simple **Naive Bayes classifier** that automatically classifies the records into their categories. Use both the TF-IDF features and word frequency features to build two seperate classifiers. Note that for the TF-IDF features you might need to use other type of NB classifier different than the one in the Master Notebook. Comment on the differences and when using augmentation with feature pattern.  Refer to this [article](https://hub.packtpub.com/implementing-3-naive-bayes-classifiers-in-scikit-learn/).\n",
    "\n",
    "\n",
    "4. Fourth: In the lab, we applied each step really quickly just to illustrate how to work with your dataset. There are somethings that are not ideal or the most efficient/meaningful. Each dataset can be handled differently as well. What are those inefficent parts you noticed? How can you improve the Data preprocessing for these specific datasets? __This part is worth 10% of your grade.__\n",
    "\n",
    "\n",
    "5. Fifth: It's hard for us to follow if your code is messy, so please **tidy up your notebook** and **add minimal comments where needed**. __This part is worth 5% of your grade.__\n",
    "\n",
    "\n",
    "You can submit your homework following these guidelines: [DM2025-Lab1-announcement](https://github.com/leoson-wu/DM2025-Lab1-Announcement/blob/main/README.md). Make sure to commit and save your changes to your repository __BEFORE the deadline (October 19th 11:59 pm, Sunday)__. "
   ]
  },
  {
   "cell_type": "markdown",
   "metadata": {},
   "source": [
    "# Phase 1"
   ]
  },
  {
   "cell_type": "code",
   "execution_count": 60,
   "metadata": {},
   "outputs": [
    {
     "name": "stdout",
     "output_type": "stream",
     "text": [
      "2 data prepare:\n",
      "      type             datetime  post_id         subreddit                                                                                                                                   title                author                                                                                                          url  upvotes  downvotes  upvote_ratio                                                                                                                                                                                                                                                                                                                                                                                                                                                                                                                                                                                                                                                                                                                                                                                                                                                                                                                                                                                                                                                                                                                                             text  subjectivity  polarity  sentiment                                                                                                                                                                                                                                                                                                                                                                                                                                                    entities  label\n",
      "0  comment  2025-04-11 17:29:56  mmli62w    wallstreetbets                                                                                         Retardation is on the menu boys! WSB is so back          StickyTip420                                                                         https://i.redd.it/0yq2ftren8ue1.jpeg        0        NaN           NaN                                                                                                                                                                                                                                                                                                                                                                                                                                                                                                                                                                                                                                                                                                                                                                                                                                                                                                                                                                                                                                                                                                                                 Calls on retards      1.000000 -0.900000       -1.0                                                                                                                                                                                                                                                                                                                                                                                                                                                          []   -1.0\n",
      "1  comment   2025-04-12 1:12:19  mmnu7v9    wallstreetbets                                     Retail giant TARGET has now declined for 10 consecutive weeks, its longest losing streak in history  Comfortable-Dog-8437                                                                         https://i.redd.it/7tl6puv9waue1.jpeg      -15        NaN           NaN                                                                                                                                                                                                                                                                                                                                                                                                                                                                                                                                                                                                                                                                                                                                                                                                                                                                                                                                                                                                        Stunt as in like why did they even make a big deal about starting it in the first place? No company should ever talk about politics ever.      0.177778  0.083333        1.0                                                                                                                                                                                                                                                                                                                                                                                                                       ['Stunt', 'company', 'deal', 'place']    0.0\n",
      "2  comment  2025-04-10 15:09:41  mmeevio       StockMarket  How do you feel about a sitting president making $415M in one day after pumping his own stock with social media and a policy decision?          Btankersly66  https://apnews.com/article/trump-truth-social-djt-tesla-musk-tariffs-pause-fccfa6b06c8f1ec0cd7844641ca52669        1        NaN           NaN                                                                                                                                                                                                                                                                                                                                                                                                                                                                                                                                                                                                                                                                                                                                                                                                                                                                                                                                                                                                                                                                                                                Seeing lots of red in the ticker.      0.000000  0.000000        0.0                                                                                                                                                                                                                                                                                                                                                                                                                                                  ['ticker']    0.0\n",
      "3     post  2023-08-30 17:12:55  165kllm  stockstobuytoday                                                                                                                   Who knows more? $VMAR             emiljenfn                              https://www.reddit.com/r/stockstobuytoday/comments/165kllm/who_knows_more_vmar/       30        0.0          0.98  Vision Marine Technologies Inc. is rewriting the watercraft rulebook. Their collaboration with Shaun Torrente has achieved the unthinkable – a blazing 116 mph on water! This isn't just about speed; it's about propelling electric boating into a new era. Their cutting-edge technology, combined with Torrente's skill, is making waves that'll ripple for generations.\\r\\n\\r\\n**Highlight Main Points**\\r\\n\\r\\n* Vision Marine Technologies Inc. achieves a record-breaking 116 mph speed on water with Shaun Torrente.\\r\\n* The feat highlights the power of electric boating and pushes the limits of innovation.\\r\\n* Partners like Octillion Power Systems and Danfoss Editron contribute to this groundbreaking achievement.\\r\\n\\r\\n**TLDR**\\r\\n\\r\\nHold onto your seats – Vision Marine Technologies Inc. and Shaun Torrente have shattered the water-speed record at an astonishing 116 mph!  This isn't just about speed; it's about pioneering electric boating and innovation. The collaboration of technology, skill, and passion is creating ripples that'll be felt for years to come in the world of watercraft.\\r\\n\\r\\n[]()      0.646970  0.216383        1.0  ['watercraft', 'skill', 'power', ']', 'feat', 'Marine', 'Main', 'Systems', 'Vision Marine Technologies Inc.', 'Vision', 'water', 'record', 'Torrente', 'passion', 'Inc.', 'Shaun', 'Octillion Power Systems', 'collaboration', 'innovation', 'rulebook', 'Points', '–', 'Hold', 'Danfoss', 'speed', 'mph', 'achievement', 'technology', 'Power', 'boating', 'Octillion', 'Highlight', 'TLDR', 'world', 'Editron', 'contribute', 'water-speed', '*', 'era']    1.0\n",
      "  (np.int32(0), np.int32(692))\t1\n",
      "  (np.int32(0), np.int32(2706))\t1\n",
      "  (np.int32(0), np.int32(3248))\t1\n",
      "calls\n",
      "Calls on retards\n",
      "文件中'text'的欄位數量: 847 稀疏矩陣的[文本數量、矩陣大小]:(847, 4346)\n"
     ]
    },
    {
     "data": {
      "application/vnd.plotly.v1+json": {
       "config": {
        "plotlyServerURL": "https://plot.ly"
       },
       "data": [
        {
         "type": "bar",
         "x": [
          "StockMarket",
          "stocks",
          "stockstobuytoday",
          "wallstreetbets"
         ],
         "y": {
          "bdata": "0SLb+X5q3L9y6/IOOFLUv0rxApkUL8A/UpD8eZXFyb8=",
          "dtype": "f8"
         }
        }
       ],
       "layout": {
        "template": {
         "data": {
          "bar": [
           {
            "error_x": {
             "color": "#2a3f5f"
            },
            "error_y": {
             "color": "#2a3f5f"
            },
            "marker": {
             "line": {
              "color": "#E5ECF6",
              "width": 0.5
             },
             "pattern": {
              "fillmode": "overlay",
              "size": 10,
              "solidity": 0.2
             }
            },
            "type": "bar"
           }
          ],
          "barpolar": [
           {
            "marker": {
             "line": {
              "color": "#E5ECF6",
              "width": 0.5
             },
             "pattern": {
              "fillmode": "overlay",
              "size": 10,
              "solidity": 0.2
             }
            },
            "type": "barpolar"
           }
          ],
          "carpet": [
           {
            "aaxis": {
             "endlinecolor": "#2a3f5f",
             "gridcolor": "white",
             "linecolor": "white",
             "minorgridcolor": "white",
             "startlinecolor": "#2a3f5f"
            },
            "baxis": {
             "endlinecolor": "#2a3f5f",
             "gridcolor": "white",
             "linecolor": "white",
             "minorgridcolor": "white",
             "startlinecolor": "#2a3f5f"
            },
            "type": "carpet"
           }
          ],
          "choropleth": [
           {
            "colorbar": {
             "outlinewidth": 0,
             "ticks": ""
            },
            "type": "choropleth"
           }
          ],
          "contour": [
           {
            "colorbar": {
             "outlinewidth": 0,
             "ticks": ""
            },
            "colorscale": [
             [
              0,
              "#0d0887"
             ],
             [
              0.1111111111111111,
              "#46039f"
             ],
             [
              0.2222222222222222,
              "#7201a8"
             ],
             [
              0.3333333333333333,
              "#9c179e"
             ],
             [
              0.4444444444444444,
              "#bd3786"
             ],
             [
              0.5555555555555556,
              "#d8576b"
             ],
             [
              0.6666666666666666,
              "#ed7953"
             ],
             [
              0.7777777777777778,
              "#fb9f3a"
             ],
             [
              0.8888888888888888,
              "#fdca26"
             ],
             [
              1,
              "#f0f921"
             ]
            ],
            "type": "contour"
           }
          ],
          "contourcarpet": [
           {
            "colorbar": {
             "outlinewidth": 0,
             "ticks": ""
            },
            "type": "contourcarpet"
           }
          ],
          "heatmap": [
           {
            "colorbar": {
             "outlinewidth": 0,
             "ticks": ""
            },
            "colorscale": [
             [
              0,
              "#0d0887"
             ],
             [
              0.1111111111111111,
              "#46039f"
             ],
             [
              0.2222222222222222,
              "#7201a8"
             ],
             [
              0.3333333333333333,
              "#9c179e"
             ],
             [
              0.4444444444444444,
              "#bd3786"
             ],
             [
              0.5555555555555556,
              "#d8576b"
             ],
             [
              0.6666666666666666,
              "#ed7953"
             ],
             [
              0.7777777777777778,
              "#fb9f3a"
             ],
             [
              0.8888888888888888,
              "#fdca26"
             ],
             [
              1,
              "#f0f921"
             ]
            ],
            "type": "heatmap"
           }
          ],
          "histogram": [
           {
            "marker": {
             "pattern": {
              "fillmode": "overlay",
              "size": 10,
              "solidity": 0.2
             }
            },
            "type": "histogram"
           }
          ],
          "histogram2d": [
           {
            "colorbar": {
             "outlinewidth": 0,
             "ticks": ""
            },
            "colorscale": [
             [
              0,
              "#0d0887"
             ],
             [
              0.1111111111111111,
              "#46039f"
             ],
             [
              0.2222222222222222,
              "#7201a8"
             ],
             [
              0.3333333333333333,
              "#9c179e"
             ],
             [
              0.4444444444444444,
              "#bd3786"
             ],
             [
              0.5555555555555556,
              "#d8576b"
             ],
             [
              0.6666666666666666,
              "#ed7953"
             ],
             [
              0.7777777777777778,
              "#fb9f3a"
             ],
             [
              0.8888888888888888,
              "#fdca26"
             ],
             [
              1,
              "#f0f921"
             ]
            ],
            "type": "histogram2d"
           }
          ],
          "histogram2dcontour": [
           {
            "colorbar": {
             "outlinewidth": 0,
             "ticks": ""
            },
            "colorscale": [
             [
              0,
              "#0d0887"
             ],
             [
              0.1111111111111111,
              "#46039f"
             ],
             [
              0.2222222222222222,
              "#7201a8"
             ],
             [
              0.3333333333333333,
              "#9c179e"
             ],
             [
              0.4444444444444444,
              "#bd3786"
             ],
             [
              0.5555555555555556,
              "#d8576b"
             ],
             [
              0.6666666666666666,
              "#ed7953"
             ],
             [
              0.7777777777777778,
              "#fb9f3a"
             ],
             [
              0.8888888888888888,
              "#fdca26"
             ],
             [
              1,
              "#f0f921"
             ]
            ],
            "type": "histogram2dcontour"
           }
          ],
          "mesh3d": [
           {
            "colorbar": {
             "outlinewidth": 0,
             "ticks": ""
            },
            "type": "mesh3d"
           }
          ],
          "parcoords": [
           {
            "line": {
             "colorbar": {
              "outlinewidth": 0,
              "ticks": ""
             }
            },
            "type": "parcoords"
           }
          ],
          "pie": [
           {
            "automargin": true,
            "type": "pie"
           }
          ],
          "scatter": [
           {
            "fillpattern": {
             "fillmode": "overlay",
             "size": 10,
             "solidity": 0.2
            },
            "type": "scatter"
           }
          ],
          "scatter3d": [
           {
            "line": {
             "colorbar": {
              "outlinewidth": 0,
              "ticks": ""
             }
            },
            "marker": {
             "colorbar": {
              "outlinewidth": 0,
              "ticks": ""
             }
            },
            "type": "scatter3d"
           }
          ],
          "scattercarpet": [
           {
            "marker": {
             "colorbar": {
              "outlinewidth": 0,
              "ticks": ""
             }
            },
            "type": "scattercarpet"
           }
          ],
          "scattergeo": [
           {
            "marker": {
             "colorbar": {
              "outlinewidth": 0,
              "ticks": ""
             }
            },
            "type": "scattergeo"
           }
          ],
          "scattergl": [
           {
            "marker": {
             "colorbar": {
              "outlinewidth": 0,
              "ticks": ""
             }
            },
            "type": "scattergl"
           }
          ],
          "scattermap": [
           {
            "marker": {
             "colorbar": {
              "outlinewidth": 0,
              "ticks": ""
             }
            },
            "type": "scattermap"
           }
          ],
          "scattermapbox": [
           {
            "marker": {
             "colorbar": {
              "outlinewidth": 0,
              "ticks": ""
             }
            },
            "type": "scattermapbox"
           }
          ],
          "scatterpolar": [
           {
            "marker": {
             "colorbar": {
              "outlinewidth": 0,
              "ticks": ""
             }
            },
            "type": "scatterpolar"
           }
          ],
          "scatterpolargl": [
           {
            "marker": {
             "colorbar": {
              "outlinewidth": 0,
              "ticks": ""
             }
            },
            "type": "scatterpolargl"
           }
          ],
          "scatterternary": [
           {
            "marker": {
             "colorbar": {
              "outlinewidth": 0,
              "ticks": ""
             }
            },
            "type": "scatterternary"
           }
          ],
          "surface": [
           {
            "colorbar": {
             "outlinewidth": 0,
             "ticks": ""
            },
            "colorscale": [
             [
              0,
              "#0d0887"
             ],
             [
              0.1111111111111111,
              "#46039f"
             ],
             [
              0.2222222222222222,
              "#7201a8"
             ],
             [
              0.3333333333333333,
              "#9c179e"
             ],
             [
              0.4444444444444444,
              "#bd3786"
             ],
             [
              0.5555555555555556,
              "#d8576b"
             ],
             [
              0.6666666666666666,
              "#ed7953"
             ],
             [
              0.7777777777777778,
              "#fb9f3a"
             ],
             [
              0.8888888888888888,
              "#fdca26"
             ],
             [
              1,
              "#f0f921"
             ]
            ],
            "type": "surface"
           }
          ],
          "table": [
           {
            "cells": {
             "fill": {
              "color": "#EBF0F8"
             },
             "line": {
              "color": "white"
             }
            },
            "header": {
             "fill": {
              "color": "#C8D4E3"
             },
             "line": {
              "color": "white"
             }
            },
            "type": "table"
           }
          ]
         },
         "layout": {
          "annotationdefaults": {
           "arrowcolor": "#2a3f5f",
           "arrowhead": 0,
           "arrowwidth": 1
          },
          "autotypenumbers": "strict",
          "coloraxis": {
           "colorbar": {
            "outlinewidth": 0,
            "ticks": ""
           }
          },
          "colorscale": {
           "diverging": [
            [
             0,
             "#8e0152"
            ],
            [
             0.1,
             "#c51b7d"
            ],
            [
             0.2,
             "#de77ae"
            ],
            [
             0.3,
             "#f1b6da"
            ],
            [
             0.4,
             "#fde0ef"
            ],
            [
             0.5,
             "#f7f7f7"
            ],
            [
             0.6,
             "#e6f5d0"
            ],
            [
             0.7,
             "#b8e186"
            ],
            [
             0.8,
             "#7fbc41"
            ],
            [
             0.9,
             "#4d9221"
            ],
            [
             1,
             "#276419"
            ]
           ],
           "sequential": [
            [
             0,
             "#0d0887"
            ],
            [
             0.1111111111111111,
             "#46039f"
            ],
            [
             0.2222222222222222,
             "#7201a8"
            ],
            [
             0.3333333333333333,
             "#9c179e"
            ],
            [
             0.4444444444444444,
             "#bd3786"
            ],
            [
             0.5555555555555556,
             "#d8576b"
            ],
            [
             0.6666666666666666,
             "#ed7953"
            ],
            [
             0.7777777777777778,
             "#fb9f3a"
            ],
            [
             0.8888888888888888,
             "#fdca26"
            ],
            [
             1,
             "#f0f921"
            ]
           ],
           "sequentialminus": [
            [
             0,
             "#0d0887"
            ],
            [
             0.1111111111111111,
             "#46039f"
            ],
            [
             0.2222222222222222,
             "#7201a8"
            ],
            [
             0.3333333333333333,
             "#9c179e"
            ],
            [
             0.4444444444444444,
             "#bd3786"
            ],
            [
             0.5555555555555556,
             "#d8576b"
            ],
            [
             0.6666666666666666,
             "#ed7953"
            ],
            [
             0.7777777777777778,
             "#fb9f3a"
            ],
            [
             0.8888888888888888,
             "#fdca26"
            ],
            [
             1,
             "#f0f921"
            ]
           ]
          },
          "colorway": [
           "#636efa",
           "#EF553B",
           "#00cc96",
           "#ab63fa",
           "#FFA15A",
           "#19d3f3",
           "#FF6692",
           "#B6E880",
           "#FF97FF",
           "#FECB52"
          ],
          "font": {
           "color": "#2a3f5f"
          },
          "geo": {
           "bgcolor": "white",
           "lakecolor": "white",
           "landcolor": "#E5ECF6",
           "showlakes": true,
           "showland": true,
           "subunitcolor": "white"
          },
          "hoverlabel": {
           "align": "left"
          },
          "hovermode": "closest",
          "mapbox": {
           "style": "light"
          },
          "paper_bgcolor": "white",
          "plot_bgcolor": "#E5ECF6",
          "polar": {
           "angularaxis": {
            "gridcolor": "white",
            "linecolor": "white",
            "ticks": ""
           },
           "bgcolor": "#E5ECF6",
           "radialaxis": {
            "gridcolor": "white",
            "linecolor": "white",
            "ticks": ""
           }
          },
          "scene": {
           "xaxis": {
            "backgroundcolor": "#E5ECF6",
            "gridcolor": "white",
            "gridwidth": 2,
            "linecolor": "white",
            "showbackground": true,
            "ticks": "",
            "zerolinecolor": "white"
           },
           "yaxis": {
            "backgroundcolor": "#E5ECF6",
            "gridcolor": "white",
            "gridwidth": 2,
            "linecolor": "white",
            "showbackground": true,
            "ticks": "",
            "zerolinecolor": "white"
           },
           "zaxis": {
            "backgroundcolor": "#E5ECF6",
            "gridcolor": "white",
            "gridwidth": 2,
            "linecolor": "white",
            "showbackground": true,
            "ticks": "",
            "zerolinecolor": "white"
           }
          },
          "shapedefaults": {
           "line": {
            "color": "#2a3f5f"
           }
          },
          "ternary": {
           "aaxis": {
            "gridcolor": "white",
            "linecolor": "white",
            "ticks": ""
           },
           "baxis": {
            "gridcolor": "white",
            "linecolor": "white",
            "ticks": ""
           },
           "bgcolor": "#E5ECF6",
           "caxis": {
            "gridcolor": "white",
            "linecolor": "white",
            "ticks": ""
           }
          },
          "title": {
           "x": 0.05
          },
          "xaxis": {
           "automargin": true,
           "gridcolor": "white",
           "linecolor": "white",
           "ticks": "",
           "title": {
            "standoff": 15
           },
           "zerolinecolor": "white",
           "zerolinewidth": 2
          },
          "yaxis": {
           "automargin": true,
           "gridcolor": "white",
           "linecolor": "white",
           "ticks": "",
           "title": {
            "standoff": 15
           },
           "zerolinecolor": "white",
           "zerolinewidth": 2
          }
         }
        }
       }
      }
     },
     "metadata": {},
     "output_type": "display_data"
    },
    {
     "data": {
      "text/plain": [
       "<Axes: xlabel='date_only', ylabel='subreddit'>"
      ]
     },
     "execution_count": 60,
     "metadata": {},
     "output_type": "execute_result"
    },
    {
     "data": {
      "image/png": "[encoded data removed]",
      "text/plain": [
       "<Figure size 900x2000 with 2 Axes>"
      ]
     },
     "metadata": {},
     "output_type": "display_data"
    }
   ],
   "source": [
    "import pandas as pd\n",
    "import numpy as np\n",
    "import nltk\n",
    "from sklearn.datasets import fetch_20newsgroups\n",
    "from sklearn.feature_extraction.text import CountVectorizer\n",
    "import plotly as py\n",
    "import helpers.data_mining_helpers as dmh\n",
    "import math\n",
    "import PAMI\n",
    "import umap\n",
    "import sys\n",
    "from IPython.display import clear_output\n",
    "from sklearn.feature_extraction.text import CountVectorizer\n",
    "import time\n",
    "import seaborn as sns\n",
    "import matplotlib.pyplot as plts\n",
    "\n",
    "def b():\n",
    "    print(\"-------------------------------------------------------------------------------------------\")\n",
    "def c():\n",
    "    print('\\n')\n",
    "def e():\n",
    "    clear_output(wait=True)\n",
    "    input(\"按下 Enter 繼續...\")\n",
    "\n",
    "#environment setup start\n",
    "print(\"environment setup:\")\n",
    "%load_ext autoreload\n",
    "%autoreload 2\n",
    "nltk.download('punkt') \n",
    "pd.set_option('display.max_rows', None)\n",
    "pd.set_option('display.max_columns', None) \n",
    "pd.set_option(\"display.max_colwidth\", None)\n",
    "pd.set_option(\"display.expand_frame_repr\", False)\n",
    "c()\n",
    "#environment setup end\n",
    "# 1 the data start\n",
    "print(\"1 the data:\")\n",
    "a= pd.read_csv(\"newdataset/Reddit-stock-sentiment.csv\")\n",
    "print(\"complicated\")\n",
    "print(a.index)\n",
    "\n",
    "c()\n",
    "clear_output(wait=True)\n",
    "input(\"按下 Enter 繼續...\")\n",
    "# 1 the data end\n",
    "# 2 data prepare start\n",
    "print(\"2 data prepare:\")\n",
    "print(a.iloc[:4])\n",
    "'''\n",
    "b()\n",
    "print(\"text 欄的長度:\",len(a.text))\n",
    "print(\"type 欄的長度:\",len(a.type))\n",
    "b()\n",
    "for i in range(3):\n",
    "    print(f\"example {i+1}\")\n",
    "    print(\"\\n\".join(a.text[i].split(\"\\n\")))\n",
    "c()\n",
    "e()\n",
    "# 2 data prepare end\n",
    "# 3 data transformation start\n",
    "print(\"3 data transformation:\")\n",
    "print(f\"本資料已為dataframe格式:{type(a)}\")\n",
    "b()\n",
    "    # ee= ['wallstreetbets', 'StockMarket', 'stockstobuytoday', 'stocks'] f=pd.DataFrame({\"target_names\":ee})\n",
    "a[\"subreddit_id\"]=pd.factorize(a[\"subreddit\"])[0]\n",
    "print(a[:10][[\"subreddit\",\"subreddit_id\"]])\n",
    "c()\n",
    "qq=int(input(f\"only in {min(a['subreddit_id'])} to {max(a['subreddit_id'])}:\")) #記得在f string 裡用[]存取dataframe要用單引號\n",
    "if(qq>=min(a['subreddit_id']) and qq<=max(a['subreddit_id'])):\n",
    "     print(a.query('subreddit_id == @qq' ))\n",
    "c()\n",
    "print(a[a[\"subreddit\"]==\"StockMarket\"][::10][0:5])\n",
    "e()\n",
    "# 3 data transformation end\n",
    "# 4 data mining using pandas start\n",
    "print(\"4 data mining using pandas:\")\n",
    "print(a.isnull().apply(lambda x: dmh.check_missing_values(a)))\n",
    "c()\n",
    "print(f\"檢查duplicated資料: {sum(a.duplicated())}\")\n",
    "c()\n",
    "e()\n",
    "# 4 data mining using pandas end\n",
    "# 5 data processing start\n",
    "print(\"5 data processing:\")\n",
    "asample = a.sample(n=300)\n",
    "print(f\"隨機抽樣300筆的資料\\n{asample[0:20]}\")\n",
    "b()\n",
    "a['unigrams'] = a['text'].apply(lambda x: dmh.tokenize_text(x))\n",
    "print(a[0:4][\"unigrams\"])\n",
    "print(a.subreddit.value_counts().plot(kind = 'bar',\n",
    "                                title = 'Category distribution',\n",
    "                                ylim = [0, a.subreddit.value_counts().max()+30],        \n",
    "                                rot = 0, fontsize = 11, figsize = (8,3)))\n",
    "e()\n",
    "print(a.type.value_counts().plot(kind = 'bar',\n",
    "                            title = 'Category distribution',\n",
    "                            ylim = [0, a.type.value_counts().max()+30],        \n",
    "                            rot = 0, fontsize = 11, figsize = (8,3)))\n",
    "e()\n",
    "'''\n",
    "#5.3 Feature subset selection\n",
    "iimpor = CountVectorizer()#note:iimpor為Bow矩陣，將text裡各列的詞轉成詞彙表(註 詞彙表是a[text]的所有詞一起切)\n",
    "impor = iimpor.fit_transform(a.text) #note:fit_transform(a.text)則會將a.text各欄的字串根據iimpor這個字彙表(所以字彙表不一定要來自同文件，只是字彙表需cover到所有字)轉成稀疏矩陣。fit_trans這串函式是對應名字的兩函式的組合，fit()學習所有文本中的詞彙表、transform()將每欄的字串轉換成對應的向量\n",
    "   \n",
    "    #透過函式，從稀疏矩陣的第一個文本([0])中反查特定的字為何\n",
    "print(impor[0])\n",
    "aa=int(input(\"請輸入想要查詢第幾個字:\"))\n",
    "print(iimpor.get_feature_names_out()[aa])\n",
    "print(a.text[0])\n",
    "    \n",
    "    #查看稀疏矩陣的大小\n",
    "print(f\"文件中'text'的欄位數量: {len(a['text'])} 稀疏矩陣的[文本數量、矩陣大小]:{impor.shape}\")\n",
    "    \n",
    "    #查看字彙表的0~99字\n",
    "iimpor.get_feature_names_out()[0:100]\n",
    "    #新東西 準備將稀疏矩陣轉成稠密矩陣(從0~4個文本中的前0~99字)\n",
    "mpor=impor[0:5, 0:100].toarray()\n",
    "'''\n",
    "    #生成熱度圖\n",
    "plot_x = [\"term_\"+str(i) for i in iimpor.get_feature_names_out()[0:80]]\n",
    "plot_y = [\"text_\"+ str(i) for i in list(a.index)[0:80]]\n",
    "plot_z = impor[0:80, 0:80].toarray()\n",
    "df_todraw = pd.DataFrame(plot_z, columns = plot_x, index = plot_y)\n",
    "plts.subplots(figsize=(9, 7))\n",
    "print(sns.heatmap(df_todraw,cmap=\"PuRd\",vmin=0, vmax=1, annot=True))\n",
    "\n",
    "    #計算字彙表上各單字在text中所有欄出現的頻率->轉成一維陣列->做出長條圖，並排序之\n",
    "term_frequencies = []\n",
    "for j in range(0,impor.shape[1]):#impor.shape[1]可以取出詞彙總數\n",
    "    term_frequencies.append(sum(impor[:,j].toarray()))#append進陣列變二維陣列\n",
    "term_frequencies = np.asarray(impor.sum(axis=0))[0]\n",
    "jj=pd.DataFrame({'term':iimpor.get_feature_names_out()[:300],'frequencies':term_frequencies[:300]})\n",
    "hh=jj.sort_values(by='frequencies',ascending=False)\n",
    "pp=py.graph_objects.Figure(data=[py.graph_objects.Bar(x=hh.head(300)['term'],y=hh.head(300)['frequencies'])])\n",
    "pp.update_layout(title=f'已排序後的前300個詞',xaxis_title='詞',yaxis_title='頻率')\n",
    "pp.show()\n",
    "\n",
    "    #針對字數出現的頻率進行對數處理\n",
    "term_frequencies_log = [math.log(i) for i in term_frequencies]\n",
    "ss=pd.DataFrame({'term':iimpor.get_feature_names_out()[:300],'frequencies_log':term_frequencies_log[:300]})\n",
    "qq=ss.sort_values(by='frequencies_log',ascending=False)\n",
    "pp=py.graph_objects.Figure(data=[py.graph_objects.Bar(x=qq.head(300)['term'],y=qq.head(300)['frequencies_log'])])\n",
    "pp.update_layout(title=f'已排序後的前300個詞',xaxis_title='詞',yaxis_title='頻率(經對數處理)')\n",
    "pp.show()\n",
    "'''\n",
    "#Third part  \n",
    "\n",
    "llll = a.groupby(\"subreddit\")[\"label\"].mean().reset_index()\n",
    "ooe=py.graph_objects.Figure(data=[py.graph_objects.Bar(x=llll.subreddit,y=llll.label)])\n",
    "ooe.show()\n",
    "\n",
    "a[\"date_only\"] = pd.to_datetime(a[\"datetime\"]).dt.date\n",
    "lle = a.groupby([\"subreddit\",\"date_only\"])[\"label\"].mean().reset_index()\n",
    "eee= lle.pivot(index=\"subreddit\", columns=\"date_only\", values=\"label\")\n",
    "plts.subplots(figsize=(9, 20))\n",
    "sns.heatmap(eee, cmap=\"RdBu\", vmin=-1, vmax=1, annot=True)"
   ]
  },
  {
   "cell_type": "markdown",
   "metadata": {},
   "source": [
    "# Phase 2"
   ]
  },
  {
   "cell_type": "code",
   "execution_count": null,
   "metadata": {},
   "outputs": [],
   "source": [
    "### Begin Assignment Here"
   ]
  }
 ],
 "metadata": {
  "kernelspec": {
   "display_name": "Python (dm2025lab)",
   "language": "python",
   "name": "dm2025lab"
  },
  "language_info": {
   "codemirror_mode": {
    "name": "ipython",
    "version": 3
   },
   "file_extension": ".py",
   "mimetype": "text/x-python",
   "name": "python",
   "nbconvert_exporter": "python",
   "pygments_lexer": "ipython3",
   "version": "3.11.0"
  }
 },
 "nbformat": 4,
 "nbformat_minor": 4
}
